In [65]:
import pandas as pd
import numpy as np

df=pd.read_csv("C:\datafile.csv")
df.head()
Out[65]:
CityName	VehicleTypeId	Description	Year	Month	Count	Amount
0	Surat	1	MOPED/SCOOTER	1989	4	2	293.0
1	Surat	1	MOPED/SCOOTER	1989	7	1	162.0
2	Surat	1	MOPED/SCOOTER	1989	8	1	144.0
3	Surat	1	MOPED/SCOOTER	1989	10	1	144.0
4	Surat	9	LOADING TRUCK/TEMPO/TRACTOR 2 TO 4 TON	1989	12	1	216.0
In [66]:
import matplotlib.pyplot as plt

X=df["Year"]
Y=df["Count"]
plt.scatter(X,Y)
plt.title("Scatter plot")
plt.xlabel("Year")
plt.ylabel("count")
plt.show()

In [68]:
import matplotlib.pyplot as plt
X=df["Month"]
Y=df["Amount"]
plt.bar(X,Y)
plt.title("Bar Plot")
plt.xlabel("Month")
plt.ylabel("Count")
plt.show()

In [76]:
import matplotlib.pyplot as plt
X=df["Month"]
Y=df["Count"]
plt.plot(X,Y,marker="o",linestyle="-")
plt.title("Line Plot")
plt.xlabel("Month")
plt.ylabel("Count")
plt.show()

In [ ]:
